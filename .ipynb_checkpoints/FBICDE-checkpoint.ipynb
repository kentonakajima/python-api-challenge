{
 "cells": [
  {
   "cell_type": "code",
   "execution_count": 12,
   "id": "57c0097b",
   "metadata": {},
   "outputs": [],
   "source": [
    "cde_api_key = \"KX3EgNxVLiRyc2XiwtYS7BF6GUsBtmf25aszpVsn\""
   ]
  },
  {
   "cell_type": "code",
   "execution_count": 16,
   "id": "5fabfab0",
   "metadata": {},
   "outputs": [
    {
     "name": "stdout",
     "output_type": "stream",
     "text": [
      "https://api.usa.gov/crime/fbi/cde/arrest/national/all?from=2017&to=2021&API_KEY=KX3EgNxVLiRyc2XiwtYS7BF6GUsBtmf25aszpVsn\n"
     ]
    }
   ],
   "source": [
    "url_national = f\"https://api.usa.gov/crime/fbi/cde/arrest/national/all?from=2017&to=2021&API_KEY={cde_api_key}\"\n",
    "print(url_national)"
   ]
  },
  {
   "cell_type": "code",
   "execution_count": 19,
   "id": "1be30c73",
   "metadata": {},
   "outputs": [
    {
     "name": "stdout",
     "output_type": "stream",
     "text": [
      "https://api.usa.gov/crime/fbi/cde/arrest/state/CA/all?from=2017&to=2021&API_KEY=KX3EgNxVLiRyc2XiwtYS7BF6GUsBtmf25aszpVsn\n"
     ]
    }
   ],
   "source": [
    "url_ca = f\"https://api.usa.gov/crime/fbi/cde/arrest/state/CA/all?from=2017&to=2021&API_KEY={cde_api_key}\"\n",
    "print(url_ca)"
   ]
  },
  {
   "cell_type": "code",
   "execution_count": 18,
   "id": "87d1447e",
   "metadata": {},
   "outputs": [
    {
     "name": "stdout",
     "output_type": "stream",
     "text": [
      "https://api.usa.gov/crime/fbi/cde/arrest/state/NV/all?from=2017&to=2021&API_KEY=KX3EgNxVLiRyc2XiwtYS7BF6GUsBtmf25aszpVsn\n"
     ]
    }
   ],
   "source": [
    "url_nv = f\"https://api.usa.gov/crime/fbi/cde/arrest/state/NV/all?from=2017&to=2021&API_KEY={cde_api_key}\"\n",
    "print(url_nv)"
   ]
  }
 ],
 "metadata": {
  "kernelspec": {
   "display_name": "Python 3 (ipykernel)",
   "language": "python",
   "name": "python3"
  },
  "language_info": {
   "codemirror_mode": {
    "name": "ipython",
    "version": 3
   },
   "file_extension": ".py",
   "mimetype": "text/x-python",
   "name": "python",
   "nbconvert_exporter": "python",
   "pygments_lexer": "ipython3",
   "version": "3.11.4"
  }
 },
 "nbformat": 4,
 "nbformat_minor": 5
}
